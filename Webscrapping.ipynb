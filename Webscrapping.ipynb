{
  "nbformat": 4,
  "nbformat_minor": 0,
  "metadata": {
    "colab": {
      "name": "Webscrapping.ipynb",
      "provenance": [],
      "authorship_tag": "ABX9TyNNoaXk6FIWi+ecCpMyx9tL",
      "include_colab_link": true
    },
    "kernelspec": {
      "name": "python3",
      "display_name": "Python 3"
    },
    "language_info": {
      "name": "python"
    }
  },
  "cells": [
    {
      "cell_type": "markdown",
      "metadata": {
        "id": "view-in-github",
        "colab_type": "text"
      },
      "source": [
        "<a href=\"https://colab.research.google.com/github/mahi1918/webscrapingrapo/blob/main/Webscrapping.ipynb\" target=\"_parent\"><img src=\"https://colab.research.google.com/assets/colab-badge.svg\" alt=\"Open In Colab\"/></a>"
      ]
    },
    {
      "cell_type": "code",
      "metadata": {
        "colab": {
          "base_uri": "https://localhost:8080/"
        },
        "id": "UTc75VHtCY8k",
        "outputId": "e58c401e-6491-4628-eb9b-03f53ae57380"
      },
      "source": [
        "!pip install bs4"
      ],
      "execution_count": 1,
      "outputs": [
        {
          "output_type": "stream",
          "name": "stdout",
          "text": [
            "Requirement already satisfied: bs4 in /usr/local/lib/python3.7/dist-packages (0.0.1)\n",
            "Requirement already satisfied: beautifulsoup4 in /usr/local/lib/python3.7/dist-packages (from bs4) (4.6.3)\n"
          ]
        }
      ]
    },
    {
      "cell_type": "code",
      "metadata": {
        "id": "VNSfvhj7FSiX"
      },
      "source": [
        "import requests\n",
        "from bs4 import BeautifulSoup"
      ],
      "execution_count": 2,
      "outputs": []
    },
    {
      "cell_type": "code",
      "metadata": {
        "id": "0B65DomhGMBq"
      },
      "source": [
        "url = \"https://www.makaan.com/hyderabad-residential-property/buy-property-in-hyderabad-city\""
      ],
      "execution_count": 3,
      "outputs": []
    },
    {
      "cell_type": "code",
      "metadata": {
        "colab": {
          "base_uri": "https://localhost:8080/"
        },
        "id": "c4CLUlwTIFsr",
        "outputId": "318f188d-3672-4cef-c6a5-36bd15ad6966"
      },
      "source": [
        "request=requests.get(url)\n",
        "request"
      ],
      "execution_count": 4,
      "outputs": [
        {
          "output_type": "execute_result",
          "data": {
            "text/plain": [
              "<Response [200]>"
            ]
          },
          "metadata": {},
          "execution_count": 4
        }
      ]
    },
    {
      "cell_type": "code",
      "metadata": {
        "colab": {
          "base_uri": "https://localhost:8080/"
        },
        "id": "-AKuGtgMIjOx",
        "outputId": "9c8ce32d-33b1-4917-9eb4-90abfe6146a5"
      },
      "source": [
        "soup=BeautifulSoup(request.content,'html')\n",
        "print(type(soup))"
      ],
      "execution_count": 6,
      "outputs": [
        {
          "output_type": "stream",
          "name": "stdout",
          "text": [
            "<class 'bs4.BeautifulSoup'>\n"
          ]
        }
      ]
    },
    {
      "cell_type": "code",
      "metadata": {
        "colab": {
          "base_uri": "https://localhost:8080/"
        },
        "id": "28n6bOHAJDag",
        "outputId": "8ef804a1-6b69-4d3f-8442-66fc31d9432e"
      },
      "source": [
        "soup.find('span')"
      ],
      "execution_count": 7,
      "outputs": [
        {
          "output_type": "execute_result",
          "data": {
            "text/plain": [
              "<span data-target=\"categoryPlaceholder\">buy</span>"
            ]
          },
          "metadata": {},
          "execution_count": 7
        }
      ]
    },
    {
      "cell_type": "code",
      "metadata": {
        "id": "Khwc_v2nLG27"
      },
      "source": [
        "#soup.find_all('span')"
      ],
      "execution_count": 9,
      "outputs": []
    },
    {
      "cell_type": "code",
      "metadata": {
        "colab": {
          "base_uri": "https://localhost:8080/"
        },
        "id": "I24fGJgXMGkc",
        "outputId": "acd689b2-1f09-4b01-f309-8c3e83ff0f8c"
      },
      "source": [
        "soup.find('span',attrs={'class':'seller-type'})"
      ],
      "execution_count": 10,
      "outputs": [
        {
          "output_type": "execute_result",
          "data": {
            "text/plain": [
              "<span class=\"seller-type\">BUILDER</span>"
            ]
          },
          "metadata": {},
          "execution_count": 10
        }
      ]
    },
    {
      "cell_type": "code",
      "metadata": {
        "colab": {
          "base_uri": "https://localhost:8080/",
          "height": 35
        },
        "id": "E8NTirfuPenJ",
        "outputId": "62314be3-a184-47bf-8974-d61e185340eb"
      },
      "source": [
        "soup.find('span',attrs={'class':'seller-type'}).text"
      ],
      "execution_count": 13,
      "outputs": [
        {
          "output_type": "execute_result",
          "data": {
            "application/vnd.google.colaboratory.intrinsic+json": {
              "type": "string"
            },
            "text/plain": [
              "'BUILDER'"
            ]
          },
          "metadata": {},
          "execution_count": 13
        }
      ]
    },
    {
      "cell_type": "code",
      "metadata": {
        "colab": {
          "base_uri": "https://localhost:8080/",
          "height": 35
        },
        "id": "NYnG8ozIQJXE",
        "outputId": "5987fec7-2e0d-447f-fc7f-abd002e58879"
      },
      "source": [
        "soup.find('div',attrs={'data-type':'price-link'}).text"
      ],
      "execution_count": 20,
      "outputs": [
        {
          "output_type": "execute_result",
          "data": {
            "application/vnd.google.colaboratory.intrinsic+json": {
              "type": "string"
            },
            "text/plain": [
              "' 1.02 Cr'"
            ]
          },
          "metadata": {},
          "execution_count": 20
        }
      ]
    },
    {
      "cell_type": "code",
      "metadata": {
        "colab": {
          "base_uri": "https://localhost:8080/",
          "height": 35
        },
        "id": "B0FyCgzTX8YP",
        "outputId": "fa376a60-4ef9-42b2-ceb2-3d9c92b3bfdf"
      },
      "source": [
        "soup.find('div',attrs={'class':'title-line'}).span.text"
      ],
      "execution_count": 22,
      "outputs": [
        {
          "output_type": "execute_result",
          "data": {
            "application/vnd.google.colaboratory.intrinsic+json": {
              "type": "string"
            },
            "text/plain": [
              "'3 '"
            ]
          },
          "metadata": {},
          "execution_count": 22
        }
      ]
    },
    {
      "cell_type": "code",
      "metadata": {
        "colab": {
          "base_uri": "https://localhost:8080/",
          "height": 35
        },
        "id": "DBwDcVE8ZfWz",
        "outputId": "f45f3df3-7802-434f-f8c0-f4eb7a62fe5a"
      },
      "source": [
        "soup.find('span',attrs={'itemprop':'addressLocality'}).text"
      ],
      "execution_count": 23,
      "outputs": [
        {
          "output_type": "execute_result",
          "data": {
            "application/vnd.google.colaboratory.intrinsic+json": {
              "type": "string"
            },
            "text/plain": [
              "'Tellapur'"
            ]
          },
          "metadata": {},
          "execution_count": 23
        }
      ]
    },
    {
      "cell_type": "code",
      "metadata": {
        "colab": {
          "base_uri": "https://localhost:8080/",
          "height": 35
        },
        "id": "f7pcvjKyaByI",
        "outputId": "6c27eaae-75fa-4f68-b32f-f908bd94cfeb"
      },
      "source": [
        "soup.find('td',attrs={'class':'size'}).text.strip()"
      ],
      "execution_count": 24,
      "outputs": [
        {
          "output_type": "execute_result",
          "data": {
            "application/vnd.google.colaboratory.intrinsic+json": {
              "type": "string"
            },
            "text/plain": [
              "'1980'"
            ]
          },
          "metadata": {},
          "execution_count": 24
        }
      ]
    },
    {
      "cell_type": "code",
      "metadata": {
        "colab": {
          "base_uri": "https://localhost:8080/",
          "height": 35
        },
        "id": "0RBUd_-4apbR",
        "outputId": "35ea8354-6cc5-487b-f5d0-a4c1119f0603"
      },
      "source": [
        "soup.find('td',attrs={'class':'lbl rate'}).text"
      ],
      "execution_count": 25,
      "outputs": [
        {
          "output_type": "execute_result",
          "data": {
            "application/vnd.google.colaboratory.intrinsic+json": {
              "type": "string"
            },
            "text/plain": [
              "'5,200 / sq ft'"
            ]
          },
          "metadata": {},
          "execution_count": 25
        }
      ]
    },
    {
      "cell_type": "code",
      "metadata": {
        "colab": {
          "base_uri": "https://localhost:8080/",
          "height": 35
        },
        "id": "sOWsSaoLbFAz",
        "outputId": "d8ae8f49-c5a5-4a7a-c10e-4b55fa1cd5b5"
      },
      "source": [
        "soup.find('td',attrs={\"class\":'val'}).text"
      ],
      "execution_count": 26,
      "outputs": [
        {
          "output_type": "execute_result",
          "data": {
            "application/vnd.google.colaboratory.intrinsic+json": {
              "type": "string"
            },
            "text/plain": [
              "'Under Construction'"
            ]
          },
          "metadata": {},
          "execution_count": 26
        }
      ]
    },
    {
      "cell_type": "code",
      "metadata": {
        "colab": {
          "base_uri": "https://localhost:8080/",
          "height": 35
        },
        "id": "rTvyzKFCbkqY",
        "outputId": "82ce4ce6-30ff-4177-c4d7-9d4483d7d9c1"
      },
      "source": [
        "soup.find('li',attrs={'class':'keypoint',\n",
        "                      'title':'Bathrooms'}).text"
      ],
      "execution_count": 27,
      "outputs": [
        {
          "output_type": "execute_result",
          "data": {
            "application/vnd.google.colaboratory.intrinsic+json": {
              "type": "string"
            },
            "text/plain": [
              "'3 Bathrooms'"
            ]
          },
          "metadata": {},
          "execution_count": 27
        }
      ]
    },
    {
      "cell_type": "code",
      "metadata": {
        "colab": {
          "base_uri": "https://localhost:8080/"
        },
        "id": "U_fD2zwecPJl",
        "outputId": "4b3aadd4-27c2-4f94-86ec-4180ff5d79fe"
      },
      "source": [
        "sel_lst = soup.find_all('span',attrs={'class':'seller-type'})\n",
        "print(sel_lst)\n",
        "print(len(sel_lst))"
      ],
      "execution_count": 28,
      "outputs": [
        {
          "output_type": "stream",
          "name": "stdout",
          "text": [
            "[<span class=\"seller-type\">BUILDER</span>, <span class=\"seller-type\">BUILDER</span>, <span class=\"seller-type\">BUILDER</span>, <span class=\"seller-type\">BUILDER</span>, <span class=\"seller-type\">BUILDER</span>, <span class=\"seller-type\">BUILDER</span>, <span class=\"seller-type\">BUILDER</span>, <span class=\"seller-type\">BUILDER</span>, <span class=\"seller-type\">BUILDER</span>, <span class=\"seller-type\">BUILDER</span>, <span class=\"seller-type\">BUILDER</span>, <span class=\"seller-type\">BUILDER</span>, <span class=\"seller-type\">BUILDER</span>, <span class=\"seller-type\">BUILDER</span>, <span class=\"seller-type\">BUILDER</span>, <span class=\"seller-type\">BUILDER</span>, <span class=\"seller-type\">BUILDER</span>, <span class=\"seller-type\">BUILDER</span>, <span class=\"seller-type\">BUILDER</span>, <span class=\"seller-type\">BUILDER</span>]\n",
            "20\n"
          ]
        }
      ]
    },
    {
      "cell_type": "code",
      "metadata": {
        "colab": {
          "base_uri": "https://localhost:8080/"
        },
        "id": "0W2nUaZbc-7F",
        "outputId": "6ac23feb-5c19-49d3-f1f5-5ec6e5f0bbda"
      },
      "source": [
        "sel_info = []\n",
        "for i in sel_lst:\n",
        "  sel_info.append(i.text)\n",
        "sel_info"
      ],
      "execution_count": 31,
      "outputs": [
        {
          "output_type": "execute_result",
          "data": {
            "text/plain": [
              "['BUILDER',\n",
              " 'BUILDER',\n",
              " 'BUILDER',\n",
              " 'BUILDER',\n",
              " 'BUILDER',\n",
              " 'BUILDER',\n",
              " 'BUILDER',\n",
              " 'BUILDER',\n",
              " 'BUILDER',\n",
              " 'BUILDER',\n",
              " 'BUILDER',\n",
              " 'BUILDER',\n",
              " 'BUILDER',\n",
              " 'BUILDER',\n",
              " 'BUILDER',\n",
              " 'BUILDER',\n",
              " 'BUILDER',\n",
              " 'BUILDER',\n",
              " 'BUILDER',\n",
              " 'BUILDER']"
            ]
          },
          "metadata": {},
          "execution_count": 31
        }
      ]
    },
    {
      "cell_type": "code",
      "metadata": {
        "id": "LDDCLcB6dyyk"
      },
      "source": [
        "sel_info_c = [i.text for i in sel_lst]"
      ],
      "execution_count": 32,
      "outputs": []
    },
    {
      "cell_type": "code",
      "metadata": {
        "colab": {
          "base_uri": "https://localhost:8080/"
        },
        "id": "0ktkWALwd1jt",
        "outputId": "f747f4b2-f371-4f6f-8d13-88cf3895e63e"
      },
      "source": [
        "prc_lst = soup.find_all('div',attrs={'data-type':'price-link'})\n",
        "prc_info = [i.text.strip() for i in prc_lst]\n",
        "prc_info"
      ],
      "execution_count": 33,
      "outputs": [
        {
          "output_type": "execute_result",
          "data": {
            "text/plain": [
              "['1.02 Cr',\n",
              " '1 Cr',\n",
              " '1.15 Cr',\n",
              " '42 L',\n",
              " '7.04 Cr',\n",
              " '1.26 Cr',\n",
              " '90.75 L',\n",
              " '5.13 Cr',\n",
              " '64.99 L',\n",
              " '69.62 L',\n",
              " '1.74 Cr',\n",
              " '52.1 L',\n",
              " '98.83 L',\n",
              " '1.5 Cr',\n",
              " '1.37 Cr',\n",
              " '42 L',\n",
              " '66.79 L',\n",
              " '1.26 Cr',\n",
              " '3.28 Cr',\n",
              " '39.99 L']"
            ]
          },
          "metadata": {},
          "execution_count": 33
        }
      ]
    },
    {
      "cell_type": "code",
      "metadata": {
        "colab": {
          "base_uri": "https://localhost:8080/"
        },
        "id": "-nFApurNgXts",
        "outputId": "a206c940-e189-4ebc-a12e-182ba8cca6ea"
      },
      "source": [
        "nbhk_lst = soup.find_all('div',attrs={'class':'title-line'})\n",
        "nbhk_info = [i.span.text.strip() for i in nbhk_lst]\n",
        "nbhk_info"
      ],
      "execution_count": 34,
      "outputs": [
        {
          "output_type": "execute_result",
          "data": {
            "text/plain": [
              "['3',\n",
              " '3',\n",
              " '3',\n",
              " '2',\n",
              " '4',\n",
              " '3',\n",
              " '3',\n",
              " '4',\n",
              " '3',\n",
              " '3',\n",
              " '4',\n",
              " '3',\n",
              " '4',\n",
              " '4',\n",
              " '3',\n",
              " 'Residential Plot',\n",
              " '3',\n",
              " 'Residential Plot',\n",
              " '4',\n",
              " 'Residential Plot']"
            ]
          },
          "metadata": {},
          "execution_count": 34
        }
      ]
    },
    {
      "cell_type": "code",
      "metadata": {
        "colab": {
          "base_uri": "https://localhost:8080/"
        },
        "id": "qo_3sDk1grYj",
        "outputId": "6dbb2fb1-0b99-466b-d922-133caef45e42"
      },
      "source": [
        "#location list\n",
        "loc_lst= soup.find_all('span',attrs={'itemprop':'addressLocality'})\n",
        "loc_info = [i.text for i in loc_lst]\n",
        "loc_info"
      ],
      "execution_count": 35,
      "outputs": [
        {
          "output_type": "execute_result",
          "data": {
            "text/plain": [
              "['Tellapur',\n",
              " 'Kokapet',\n",
              " 'Kondapur',\n",
              " 'Bachupally',\n",
              " 'Serilingampally',\n",
              " 'Nanakramguda',\n",
              " 'Nizampet',\n",
              " 'Osman Nagar',\n",
              " 'Isnapur',\n",
              " 'Gundlapochampally',\n",
              " 'Hayathnagar',\n",
              " 'Pocharam',\n",
              " 'Ramachandrapuram',\n",
              " 'Bachupally',\n",
              " 'Yapral',\n",
              " 'Aushapur',\n",
              " 'Kollur',\n",
              " 'Sheriguda',\n",
              " 'LB Nagar',\n",
              " 'Kadthal']"
            ]
          },
          "metadata": {},
          "execution_count": 35
        }
      ]
    },
    {
      "cell_type": "code",
      "metadata": {
        "colab": {
          "base_uri": "https://localhost:8080/"
        },
        "id": "XH4QHmDXgy14",
        "outputId": "73af0af9-b6d1-4442-d803-2c029664e3dc"
      },
      "source": [
        "prcsqft_lst = soup.find_all('td',attrs={'class':'lbl rate'})\n",
        "prcpsqft_info = [i.text for i in prcsqft_lst]\n",
        "prcpsqft_info"
      ],
      "execution_count": 36,
      "outputs": [
        {
          "output_type": "execute_result",
          "data": {
            "text/plain": [
              "['5,200 / sq ft',\n",
              " '6,100 / sq ft',\n",
              " '6,568 / sq ft',\n",
              " '4,800 / sq ft',\n",
              " '16,553 / sq ft',\n",
              " '7,600 / sq ft',\n",
              " '5,500 / sq ft',\n",
              " '12,000 / sq ft',\n",
              " '3,258 / sq ft',\n",
              " '4,169 / sq ft',\n",
              " '6,900 / sq ft',\n",
              " '3,830 / sq ft',\n",
              " '3,800 / sq ft',\n",
              " '6,521 / sq ft',\n",
              " '5,400 / sq ft',\n",
              " '1,333 / sq ft',\n",
              " '3,399 / sq ft',\n",
              " '4,000 / sq ft',\n",
              " '7,950 / sq ft',\n",
              " '1,111 / sq ft']"
            ]
          },
          "metadata": {},
          "execution_count": 36
        }
      ]
    },
    {
      "cell_type": "code",
      "metadata": {
        "colab": {
          "base_uri": "https://localhost:8080/"
        },
        "id": "DnEigM_rhEby",
        "outputId": "36924c1d-3da6-4da4-ebe9-51c4a7732001"
      },
      "source": [
        "area_lst = soup.find_all('td',attrs={'class':'size'})\n",
        "area_info = [i.text.strip() for i in area_lst]\n",
        "area_info"
      ],
      "execution_count": 37,
      "outputs": [
        {
          "output_type": "execute_result",
          "data": {
            "text/plain": [
              "['1980',\n",
              " '1641',\n",
              " '1766',\n",
              " '875',\n",
              " '4259',\n",
              " '1670',\n",
              " '1650',\n",
              " '4280',\n",
              " '1995',\n",
              " '1670',\n",
              " '2525',\n",
              " '1360',\n",
              " '2601',\n",
              " '2300',\n",
              " '2545',\n",
              " '3150',\n",
              " '1965',\n",
              " '3150',\n",
              " '4132',\n",
              " '3600']"
            ]
          },
          "metadata": {},
          "execution_count": 37
        }
      ]
    },
    {
      "cell_type": "code",
      "metadata": {
        "colab": {
          "base_uri": "https://localhost:8080/"
        },
        "id": "jXZ2CvFPhKVG",
        "outputId": "90dcca2c-1782-4d50-a4fa-01052abb5338"
      },
      "source": [
        "cons_lst = soup.find_all('td',attrs={\"class\":'val'})\n",
        "cons_info = [i.text for i in cons_lst]\n",
        "cons_info"
      ],
      "execution_count": 38,
      "outputs": [
        {
          "output_type": "execute_result",
          "data": {
            "text/plain": [
              "['Under Construction',\n",
              " 'Under Construction',\n",
              " 'Under Construction',\n",
              " 'Under Construction',\n",
              " 'Under Construction',\n",
              " 'Under Construction',\n",
              " 'Ready to move',\n",
              " 'Under Construction',\n",
              " 'Under Construction',\n",
              " 'Under Construction',\n",
              " 'Under Construction',\n",
              " 'Ready to move',\n",
              " 'Under Construction',\n",
              " 'Under Construction',\n",
              " 'Under Construction',\n",
              " 'New',\n",
              " 'Under Construction',\n",
              " 'New',\n",
              " 'Under Construction',\n",
              " 'New']"
            ]
          },
          "metadata": {},
          "execution_count": 38
        }
      ]
    },
    {
      "cell_type": "code",
      "metadata": {
        "colab": {
          "base_uri": "https://localhost:8080/"
        },
        "id": "WdT9srzohWGm",
        "outputId": "ecac2ae8-a459-42d1-de6c-27d0cd72c9b5"
      },
      "source": [
        "nbath_lst = soup.find_all('li',attrs={'class':'keypoint','title':'Bathrooms'})\n",
        "nbath_info = [i.text for i in nbath_lst]\n",
        "nbath_info"
      ],
      "execution_count": 39,
      "outputs": [
        {
          "output_type": "execute_result",
          "data": {
            "text/plain": [
              "['3 Bathrooms', '3 Bathrooms', '2 Bathrooms']"
            ]
          },
          "metadata": {},
          "execution_count": 39
        }
      ]
    },
    {
      "cell_type": "code",
      "metadata": {
        "colab": {
          "base_uri": "https://localhost:8080/"
        },
        "id": "QT2WmdqRh1up",
        "outputId": "a04995ee-fc03-4856-df3b-cada83e85c0f"
      },
      "source": [
        "bathr =soup.find_all('ul',attrs={'class':'listing-details'})\n",
        "nbath_info = []\n",
        "for i in bathr:\n",
        "  if i.find('li',attrs={'class':'keypoint','title':'Bathrooms'})is None:\n",
        "    nbath_info.append(\"Not Mentioned\")\n",
        "  else:\n",
        "    nbath_info.append(i.find('li',attrs={'class':'keypoint','title':'Bathrooms'}).text)\n",
        "nbath_info"
      ],
      "execution_count": 40,
      "outputs": [
        {
          "output_type": "execute_result",
          "data": {
            "text/plain": [
              "['Not Mentioned',\n",
              " '3 Bathrooms',\n",
              " '3 Bathrooms',\n",
              " '2 Bathrooms',\n",
              " 'Not Mentioned',\n",
              " 'Not Mentioned',\n",
              " 'Not Mentioned',\n",
              " 'Not Mentioned',\n",
              " 'Not Mentioned',\n",
              " 'Not Mentioned',\n",
              " 'Not Mentioned',\n",
              " 'Not Mentioned',\n",
              " 'Not Mentioned',\n",
              " 'Not Mentioned',\n",
              " 'Not Mentioned',\n",
              " 'Not Mentioned',\n",
              " 'Not Mentioned',\n",
              " 'Not Mentioned',\n",
              " 'Not Mentioned',\n",
              " 'Not Mentioned']"
            ]
          },
          "metadata": {},
          "execution_count": 40
        }
      ]
    },
    {
      "cell_type": "code",
      "metadata": {
        "id": "-cSSJNpLh8NA"
      },
      "source": [
        "import pandas as pd\n",
        "data = pd.DataFrame({\n",
        "    'Seller_info':sel_info_c,\n",
        "    'Price':prc_info,\n",
        "    'Locality':loc_info,\n",
        "    'No_bhk':nbhk_info,\n",
        "    'Price_per_Sqft':prcpsqft_info,\n",
        "    \"Construction_status\":cons_info,\n",
        "    \"Area\":area_info,\n",
        "    \"No_bathrooms\":nbath_info\n",
        "})"
      ],
      "execution_count": 41,
      "outputs": []
    },
    {
      "cell_type": "code",
      "metadata": {
        "colab": {
          "base_uri": "https://localhost:8080/",
          "height": 665
        },
        "id": "IKsNE5IFi86Y",
        "outputId": "352acabd-f7bb-4f12-b39e-f4d43abe1c8e"
      },
      "source": [
        "data"
      ],
      "execution_count": 42,
      "outputs": [
        {
          "output_type": "execute_result",
          "data": {
            "text/html": [
              "<div>\n",
              "<style scoped>\n",
              "    .dataframe tbody tr th:only-of-type {\n",
              "        vertical-align: middle;\n",
              "    }\n",
              "\n",
              "    .dataframe tbody tr th {\n",
              "        vertical-align: top;\n",
              "    }\n",
              "\n",
              "    .dataframe thead th {\n",
              "        text-align: right;\n",
              "    }\n",
              "</style>\n",
              "<table border=\"1\" class=\"dataframe\">\n",
              "  <thead>\n",
              "    <tr style=\"text-align: right;\">\n",
              "      <th></th>\n",
              "      <th>Seller_info</th>\n",
              "      <th>Price</th>\n",
              "      <th>Locality</th>\n",
              "      <th>No_bhk</th>\n",
              "      <th>Price_per_Sqft</th>\n",
              "      <th>Construction_status</th>\n",
              "      <th>Area</th>\n",
              "      <th>No_bathrooms</th>\n",
              "    </tr>\n",
              "  </thead>\n",
              "  <tbody>\n",
              "    <tr>\n",
              "      <th>0</th>\n",
              "      <td>BUILDER</td>\n",
              "      <td>1.02 Cr</td>\n",
              "      <td>Tellapur</td>\n",
              "      <td>3</td>\n",
              "      <td>5,200 / sq ft</td>\n",
              "      <td>Under Construction</td>\n",
              "      <td>1980</td>\n",
              "      <td>Not Mentioned</td>\n",
              "    </tr>\n",
              "    <tr>\n",
              "      <th>1</th>\n",
              "      <td>BUILDER</td>\n",
              "      <td>1 Cr</td>\n",
              "      <td>Kokapet</td>\n",
              "      <td>3</td>\n",
              "      <td>6,100 / sq ft</td>\n",
              "      <td>Under Construction</td>\n",
              "      <td>1641</td>\n",
              "      <td>3 Bathrooms</td>\n",
              "    </tr>\n",
              "    <tr>\n",
              "      <th>2</th>\n",
              "      <td>BUILDER</td>\n",
              "      <td>1.15 Cr</td>\n",
              "      <td>Kondapur</td>\n",
              "      <td>3</td>\n",
              "      <td>6,568 / sq ft</td>\n",
              "      <td>Under Construction</td>\n",
              "      <td>1766</td>\n",
              "      <td>3 Bathrooms</td>\n",
              "    </tr>\n",
              "    <tr>\n",
              "      <th>3</th>\n",
              "      <td>BUILDER</td>\n",
              "      <td>42 L</td>\n",
              "      <td>Bachupally</td>\n",
              "      <td>2</td>\n",
              "      <td>4,800 / sq ft</td>\n",
              "      <td>Under Construction</td>\n",
              "      <td>875</td>\n",
              "      <td>2 Bathrooms</td>\n",
              "    </tr>\n",
              "    <tr>\n",
              "      <th>4</th>\n",
              "      <td>BUILDER</td>\n",
              "      <td>7.04 Cr</td>\n",
              "      <td>Serilingampally</td>\n",
              "      <td>4</td>\n",
              "      <td>16,553 / sq ft</td>\n",
              "      <td>Under Construction</td>\n",
              "      <td>4259</td>\n",
              "      <td>Not Mentioned</td>\n",
              "    </tr>\n",
              "    <tr>\n",
              "      <th>5</th>\n",
              "      <td>BUILDER</td>\n",
              "      <td>1.26 Cr</td>\n",
              "      <td>Nanakramguda</td>\n",
              "      <td>3</td>\n",
              "      <td>7,600 / sq ft</td>\n",
              "      <td>Under Construction</td>\n",
              "      <td>1670</td>\n",
              "      <td>Not Mentioned</td>\n",
              "    </tr>\n",
              "    <tr>\n",
              "      <th>6</th>\n",
              "      <td>BUILDER</td>\n",
              "      <td>90.75 L</td>\n",
              "      <td>Nizampet</td>\n",
              "      <td>3</td>\n",
              "      <td>5,500 / sq ft</td>\n",
              "      <td>Ready to move</td>\n",
              "      <td>1650</td>\n",
              "      <td>Not Mentioned</td>\n",
              "    </tr>\n",
              "    <tr>\n",
              "      <th>7</th>\n",
              "      <td>BUILDER</td>\n",
              "      <td>5.13 Cr</td>\n",
              "      <td>Osman Nagar</td>\n",
              "      <td>4</td>\n",
              "      <td>12,000 / sq ft</td>\n",
              "      <td>Under Construction</td>\n",
              "      <td>4280</td>\n",
              "      <td>Not Mentioned</td>\n",
              "    </tr>\n",
              "    <tr>\n",
              "      <th>8</th>\n",
              "      <td>BUILDER</td>\n",
              "      <td>64.99 L</td>\n",
              "      <td>Isnapur</td>\n",
              "      <td>3</td>\n",
              "      <td>3,258 / sq ft</td>\n",
              "      <td>Under Construction</td>\n",
              "      <td>1995</td>\n",
              "      <td>Not Mentioned</td>\n",
              "    </tr>\n",
              "    <tr>\n",
              "      <th>9</th>\n",
              "      <td>BUILDER</td>\n",
              "      <td>69.62 L</td>\n",
              "      <td>Gundlapochampally</td>\n",
              "      <td>3</td>\n",
              "      <td>4,169 / sq ft</td>\n",
              "      <td>Under Construction</td>\n",
              "      <td>1670</td>\n",
              "      <td>Not Mentioned</td>\n",
              "    </tr>\n",
              "    <tr>\n",
              "      <th>10</th>\n",
              "      <td>BUILDER</td>\n",
              "      <td>1.74 Cr</td>\n",
              "      <td>Hayathnagar</td>\n",
              "      <td>4</td>\n",
              "      <td>6,900 / sq ft</td>\n",
              "      <td>Under Construction</td>\n",
              "      <td>2525</td>\n",
              "      <td>Not Mentioned</td>\n",
              "    </tr>\n",
              "    <tr>\n",
              "      <th>11</th>\n",
              "      <td>BUILDER</td>\n",
              "      <td>52.1 L</td>\n",
              "      <td>Pocharam</td>\n",
              "      <td>3</td>\n",
              "      <td>3,830 / sq ft</td>\n",
              "      <td>Ready to move</td>\n",
              "      <td>1360</td>\n",
              "      <td>Not Mentioned</td>\n",
              "    </tr>\n",
              "    <tr>\n",
              "      <th>12</th>\n",
              "      <td>BUILDER</td>\n",
              "      <td>98.83 L</td>\n",
              "      <td>Ramachandrapuram</td>\n",
              "      <td>4</td>\n",
              "      <td>3,800 / sq ft</td>\n",
              "      <td>Under Construction</td>\n",
              "      <td>2601</td>\n",
              "      <td>Not Mentioned</td>\n",
              "    </tr>\n",
              "    <tr>\n",
              "      <th>13</th>\n",
              "      <td>BUILDER</td>\n",
              "      <td>1.5 Cr</td>\n",
              "      <td>Bachupally</td>\n",
              "      <td>4</td>\n",
              "      <td>6,521 / sq ft</td>\n",
              "      <td>Under Construction</td>\n",
              "      <td>2300</td>\n",
              "      <td>Not Mentioned</td>\n",
              "    </tr>\n",
              "    <tr>\n",
              "      <th>14</th>\n",
              "      <td>BUILDER</td>\n",
              "      <td>1.37 Cr</td>\n",
              "      <td>Yapral</td>\n",
              "      <td>3</td>\n",
              "      <td>5,400 / sq ft</td>\n",
              "      <td>Under Construction</td>\n",
              "      <td>2545</td>\n",
              "      <td>Not Mentioned</td>\n",
              "    </tr>\n",
              "    <tr>\n",
              "      <th>15</th>\n",
              "      <td>BUILDER</td>\n",
              "      <td>42 L</td>\n",
              "      <td>Aushapur</td>\n",
              "      <td>Residential Plot</td>\n",
              "      <td>1,333 / sq ft</td>\n",
              "      <td>New</td>\n",
              "      <td>3150</td>\n",
              "      <td>Not Mentioned</td>\n",
              "    </tr>\n",
              "    <tr>\n",
              "      <th>16</th>\n",
              "      <td>BUILDER</td>\n",
              "      <td>66.79 L</td>\n",
              "      <td>Kollur</td>\n",
              "      <td>3</td>\n",
              "      <td>3,399 / sq ft</td>\n",
              "      <td>Under Construction</td>\n",
              "      <td>1965</td>\n",
              "      <td>Not Mentioned</td>\n",
              "    </tr>\n",
              "    <tr>\n",
              "      <th>17</th>\n",
              "      <td>BUILDER</td>\n",
              "      <td>1.26 Cr</td>\n",
              "      <td>Sheriguda</td>\n",
              "      <td>Residential Plot</td>\n",
              "      <td>4,000 / sq ft</td>\n",
              "      <td>New</td>\n",
              "      <td>3150</td>\n",
              "      <td>Not Mentioned</td>\n",
              "    </tr>\n",
              "    <tr>\n",
              "      <th>18</th>\n",
              "      <td>BUILDER</td>\n",
              "      <td>3.28 Cr</td>\n",
              "      <td>LB Nagar</td>\n",
              "      <td>4</td>\n",
              "      <td>7,950 / sq ft</td>\n",
              "      <td>Under Construction</td>\n",
              "      <td>4132</td>\n",
              "      <td>Not Mentioned</td>\n",
              "    </tr>\n",
              "    <tr>\n",
              "      <th>19</th>\n",
              "      <td>BUILDER</td>\n",
              "      <td>39.99 L</td>\n",
              "      <td>Kadthal</td>\n",
              "      <td>Residential Plot</td>\n",
              "      <td>1,111 / sq ft</td>\n",
              "      <td>New</td>\n",
              "      <td>3600</td>\n",
              "      <td>Not Mentioned</td>\n",
              "    </tr>\n",
              "  </tbody>\n",
              "</table>\n",
              "</div>"
            ],
            "text/plain": [
              "   Seller_info    Price  ...  Area   No_bathrooms\n",
              "0      BUILDER  1.02 Cr  ...  1980  Not Mentioned\n",
              "1      BUILDER     1 Cr  ...  1641    3 Bathrooms\n",
              "2      BUILDER  1.15 Cr  ...  1766    3 Bathrooms\n",
              "3      BUILDER     42 L  ...   875    2 Bathrooms\n",
              "4      BUILDER  7.04 Cr  ...  4259  Not Mentioned\n",
              "5      BUILDER  1.26 Cr  ...  1670  Not Mentioned\n",
              "6      BUILDER  90.75 L  ...  1650  Not Mentioned\n",
              "7      BUILDER  5.13 Cr  ...  4280  Not Mentioned\n",
              "8      BUILDER  64.99 L  ...  1995  Not Mentioned\n",
              "9      BUILDER  69.62 L  ...  1670  Not Mentioned\n",
              "10     BUILDER  1.74 Cr  ...  2525  Not Mentioned\n",
              "11     BUILDER   52.1 L  ...  1360  Not Mentioned\n",
              "12     BUILDER  98.83 L  ...  2601  Not Mentioned\n",
              "13     BUILDER   1.5 Cr  ...  2300  Not Mentioned\n",
              "14     BUILDER  1.37 Cr  ...  2545  Not Mentioned\n",
              "15     BUILDER     42 L  ...  3150  Not Mentioned\n",
              "16     BUILDER  66.79 L  ...  1965  Not Mentioned\n",
              "17     BUILDER  1.26 Cr  ...  3150  Not Mentioned\n",
              "18     BUILDER  3.28 Cr  ...  4132  Not Mentioned\n",
              "19     BUILDER  39.99 L  ...  3600  Not Mentioned\n",
              "\n",
              "[20 rows x 8 columns]"
            ]
          },
          "metadata": {},
          "execution_count": 42
        }
      ]
    },
    {
      "cell_type": "code",
      "metadata": {
        "colab": {
          "base_uri": "https://localhost:8080/",
          "height": 203
        },
        "id": "-KR5aNtbjHf8",
        "outputId": "ab267e00-5327-40ee-c662-dce92f60887d"
      },
      "source": [
        "data.head()"
      ],
      "execution_count": 43,
      "outputs": [
        {
          "output_type": "execute_result",
          "data": {
            "text/html": [
              "<div>\n",
              "<style scoped>\n",
              "    .dataframe tbody tr th:only-of-type {\n",
              "        vertical-align: middle;\n",
              "    }\n",
              "\n",
              "    .dataframe tbody tr th {\n",
              "        vertical-align: top;\n",
              "    }\n",
              "\n",
              "    .dataframe thead th {\n",
              "        text-align: right;\n",
              "    }\n",
              "</style>\n",
              "<table border=\"1\" class=\"dataframe\">\n",
              "  <thead>\n",
              "    <tr style=\"text-align: right;\">\n",
              "      <th></th>\n",
              "      <th>Seller_info</th>\n",
              "      <th>Price</th>\n",
              "      <th>Locality</th>\n",
              "      <th>No_bhk</th>\n",
              "      <th>Price_per_Sqft</th>\n",
              "      <th>Construction_status</th>\n",
              "      <th>Area</th>\n",
              "      <th>No_bathrooms</th>\n",
              "    </tr>\n",
              "  </thead>\n",
              "  <tbody>\n",
              "    <tr>\n",
              "      <th>0</th>\n",
              "      <td>BUILDER</td>\n",
              "      <td>1.02 Cr</td>\n",
              "      <td>Tellapur</td>\n",
              "      <td>3</td>\n",
              "      <td>5,200 / sq ft</td>\n",
              "      <td>Under Construction</td>\n",
              "      <td>1980</td>\n",
              "      <td>Not Mentioned</td>\n",
              "    </tr>\n",
              "    <tr>\n",
              "      <th>1</th>\n",
              "      <td>BUILDER</td>\n",
              "      <td>1 Cr</td>\n",
              "      <td>Kokapet</td>\n",
              "      <td>3</td>\n",
              "      <td>6,100 / sq ft</td>\n",
              "      <td>Under Construction</td>\n",
              "      <td>1641</td>\n",
              "      <td>3 Bathrooms</td>\n",
              "    </tr>\n",
              "    <tr>\n",
              "      <th>2</th>\n",
              "      <td>BUILDER</td>\n",
              "      <td>1.15 Cr</td>\n",
              "      <td>Kondapur</td>\n",
              "      <td>3</td>\n",
              "      <td>6,568 / sq ft</td>\n",
              "      <td>Under Construction</td>\n",
              "      <td>1766</td>\n",
              "      <td>3 Bathrooms</td>\n",
              "    </tr>\n",
              "    <tr>\n",
              "      <th>3</th>\n",
              "      <td>BUILDER</td>\n",
              "      <td>42 L</td>\n",
              "      <td>Bachupally</td>\n",
              "      <td>2</td>\n",
              "      <td>4,800 / sq ft</td>\n",
              "      <td>Under Construction</td>\n",
              "      <td>875</td>\n",
              "      <td>2 Bathrooms</td>\n",
              "    </tr>\n",
              "    <tr>\n",
              "      <th>4</th>\n",
              "      <td>BUILDER</td>\n",
              "      <td>7.04 Cr</td>\n",
              "      <td>Serilingampally</td>\n",
              "      <td>4</td>\n",
              "      <td>16,553 / sq ft</td>\n",
              "      <td>Under Construction</td>\n",
              "      <td>4259</td>\n",
              "      <td>Not Mentioned</td>\n",
              "    </tr>\n",
              "  </tbody>\n",
              "</table>\n",
              "</div>"
            ],
            "text/plain": [
              "  Seller_info    Price  ...  Area   No_bathrooms\n",
              "0     BUILDER  1.02 Cr  ...  1980  Not Mentioned\n",
              "1     BUILDER     1 Cr  ...  1641    3 Bathrooms\n",
              "2     BUILDER  1.15 Cr  ...  1766    3 Bathrooms\n",
              "3     BUILDER     42 L  ...   875    2 Bathrooms\n",
              "4     BUILDER  7.04 Cr  ...  4259  Not Mentioned\n",
              "\n",
              "[5 rows x 8 columns]"
            ]
          },
          "metadata": {},
          "execution_count": 43
        }
      ]
    },
    {
      "cell_type": "code",
      "metadata": {
        "id": "FPIoNBKijKmc"
      },
      "source": [
        "data.to_csv('Aprmntshyd.csv')"
      ],
      "execution_count": 44,
      "outputs": []
    },
    {
      "cell_type": "code",
      "metadata": {
        "id": "FyMktpDAjh4x"
      },
      "source": [
        ""
      ],
      "execution_count": null,
      "outputs": []
    }
  ]
}